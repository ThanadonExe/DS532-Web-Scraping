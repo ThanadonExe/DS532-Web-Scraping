{
  "nbformat": 4,
  "nbformat_minor": 0,
  "metadata": {
    "colab": {
      "name": "DS532 - Homework - Web Scraping.ipynb",
      "provenance": [],
      "collapsed_sections": []
    },
    "kernelspec": {
      "name": "python3",
      "display_name": "Python 3"
    }
  },
  "cells": [
    {
      "cell_type": "code",
      "metadata": {
        "id": "WUTD_tbD7F-D",
        "colab_type": "code",
        "outputId": "2bee0bcc-7552-47a8-ae0f-75c0ff1bc108",
        "colab": {
          "base_uri": "https://localhost:8080/",
          "height": 459
        }
      },
      "source": [
        "!apt-get update\n",
        "!apt install chromium-chromedriver\n",
        "!cp /usr/lib/chromium-browser/chromedriver /usr/bin\n",
        "!cp /usr/bin/chromium-browser /usr/bin"
      ],
      "execution_count": 1,
      "outputs": [
        {
          "output_type": "stream",
          "text": [
            "\r0% [Working]\r            \rHit:1 http://security.ubuntu.com/ubuntu bionic-security InRelease\n",
            "\r0% [Connecting to archive.ubuntu.com] [Connecting to cloud.r-project.org] [Wait\r0% [1 InRelease gpgv 88.7 kB] [Connecting to archive.ubuntu.com] [Connecting to\r                                                                               \rIgn:2 https://developer.download.nvidia.com/compute/cuda/repos/ubuntu1804/x86_64  InRelease\n",
            "\r0% [1 InRelease gpgv 88.7 kB] [Connecting to archive.ubuntu.com (91.189.88.174)\r0% [1 InRelease gpgv 88.7 kB] [Connecting to archive.ubuntu.com (91.189.88.174)\r0% [Waiting for headers] [Connecting to cloud.r-project.org] [Waiting for heade\r                                                                               \rHit:4 http://archive.ubuntu.com/ubuntu bionic InRelease\n",
            "\r0% [Waiting for headers] [Connecting to cloud.r-project.org] [Waiting for heade\r0% [4 InRelease gpgv 242 kB] [Waiting for headers] [Connecting to cloud.r-proje\r                                                                               \rIgn:5 https://developer.download.nvidia.com/compute/machine-learning/repos/ubuntu1804/x86_64  InRelease\n",
            "\r0% [4 InRelease gpgv 242 kB] [Waiting for headers] [Connecting to cloud.r-proje\r                                                                               \rHit:6 https://developer.download.nvidia.com/compute/cuda/repos/ubuntu1804/x86_64  Release\n",
            "\r0% [4 InRelease gpgv 242 kB] [Waiting for headers] [Connecting to cloud.r-proje\r                                                                               \rHit:7 https://developer.download.nvidia.com/compute/machine-learning/repos/ubuntu1804/x86_64  Release\n",
            "\r0% [4 InRelease gpgv 242 kB] [Waiting for headers] [Connecting to cloud.r-proje\r                                                                               \rGet:8 http://ppa.launchpad.net/marutter/c2d4u3.5/ubuntu bionic InRelease [15.4 kB]\n",
            "\r0% [4 InRelease gpgv 242 kB] [Waiting for headers] [Connecting to cloud.r-proje\r                                                                               \rHit:9 http://archive.ubuntu.com/ubuntu bionic-updates InRelease\n",
            "\r0% [4 InRelease gpgv 242 kB] [Waiting for headers] [Connecting to cloud.r-proje\r0% [4 InRelease gpgv 242 kB] [Waiting for headers] [Connecting to cloud.r-proje\r0% [Waiting for headers] [Connecting to cloud.r-project.org] [Connecting to ppa\r                                                                               \rHit:10 http://archive.ubuntu.com/ubuntu bionic-backports InRelease\n",
            "Get:3 http://ppa.launchpad.net/graphics-drivers/ppa/ubuntu bionic InRelease [21.3 kB]\n",
            "Get:13 http://ppa.launchpad.net/marutter/c2d4u3.5/ubuntu bionic/main Sources [1,758 kB]\n",
            "Hit:14 https://cloud.r-project.org/bin/linux/ubuntu bionic-cran35/ InRelease\n",
            "Get:15 http://ppa.launchpad.net/marutter/c2d4u3.5/ubuntu bionic/main amd64 Packages [848 kB]\n",
            "Get:16 http://ppa.launchpad.net/graphics-drivers/ppa/ubuntu bionic/main amd64 Packages [36.8 kB]\n",
            "Fetched 2,679 kB in 3s (800 kB/s)\n",
            "Reading package lists... Done\n",
            "Reading package lists... Done\n",
            "Building dependency tree       \n",
            "Reading state information... Done\n",
            "chromium-chromedriver is already the newest version (79.0.3945.79-0ubuntu0.18.04.1).\n",
            "The following package was automatically installed and is no longer required:\n",
            "  libnvidia-common-430\n",
            "Use 'apt autoremove' to remove it.\n",
            "0 upgraded, 0 newly installed, 0 to remove and 74 not upgraded.\n",
            "cp: '/usr/lib/chromium-browser/chromedriver' and '/usr/bin/chromedriver' are the same file\n",
            "cp: '/usr/bin/chromium-browser' and '/usr/bin/chromium-browser' are the same file\n"
          ],
          "name": "stdout"
        }
      ]
    },
    {
      "cell_type": "code",
      "metadata": {
        "id": "dl1iluI2vwMG",
        "colab_type": "code",
        "outputId": "27dcdfc7-af63-46d3-cefc-209f06eea7a5",
        "colab": {
          "base_uri": "https://localhost:8080/",
          "height": 34
        }
      },
      "source": [
        "!pip install beautifulsoup4"
      ],
      "execution_count": 2,
      "outputs": [
        {
          "output_type": "stream",
          "text": [
            "Requirement already satisfied: beautifulsoup4 in /usr/local/lib/python3.6/dist-packages (4.6.3)\n"
          ],
          "name": "stdout"
        }
      ]
    },
    {
      "cell_type": "code",
      "metadata": {
        "id": "s9HQddjy7KS_",
        "colab_type": "code",
        "outputId": "d21c535d-0fe6-4a34-8c17-0dc785543f75",
        "colab": {
          "base_uri": "https://localhost:8080/",
          "height": 34
        }
      },
      "source": [
        "!pip install lxml"
      ],
      "execution_count": 3,
      "outputs": [
        {
          "output_type": "stream",
          "text": [
            "Requirement already satisfied: lxml in /usr/local/lib/python3.6/dist-packages (4.2.6)\n"
          ],
          "name": "stdout"
        }
      ]
    },
    {
      "cell_type": "code",
      "metadata": {
        "id": "hm487iK97K1s",
        "colab_type": "code",
        "outputId": "876dca26-9b87-49f9-eca2-712850885a17",
        "colab": {
          "base_uri": "https://localhost:8080/",
          "height": 51
        }
      },
      "source": [
        "!pip install selenium"
      ],
      "execution_count": 4,
      "outputs": [
        {
          "output_type": "stream",
          "text": [
            "Requirement already satisfied: selenium in /usr/local/lib/python3.6/dist-packages (3.141.0)\n",
            "Requirement already satisfied: urllib3 in /usr/local/lib/python3.6/dist-packages (from selenium) (1.24.3)\n"
          ],
          "name": "stdout"
        }
      ]
    },
    {
      "cell_type": "code",
      "metadata": {
        "id": "KwXpLLGL7P-b",
        "colab_type": "code",
        "colab": {}
      },
      "source": [
        "from selenium import webdriver\n",
        "from selenium.webdriver.common.by import By\n",
        "from selenium.webdriver.support.ui import WebDriverWait\n",
        "from selenium.webdriver.support import expected_conditions as EC\n",
        "from selenium.common.exceptions import TimeoutException"
      ],
      "execution_count": 0,
      "outputs": []
    },
    {
      "cell_type": "markdown",
      "metadata": {
        "id": "L2U26ocpMfYu",
        "colab_type": "text"
      },
      "source": [
        "**ในกรณีที่ไม่ได้ใช้ url ที่เป็นจังหวัดหรือเขต จะไม่สามารถดึงข้อมูลผ่าน requests ได้โดยตรง เนื่องจาก element ต่างๆ ในเว็บจะยังไม่ถูก Loaded ขึ้นมาจึงเลือกใช้ Selenium แทน requests เพื่อรองรับกรณีนี้**\n"
      ]
    },
    {
      "cell_type": "code",
      "metadata": {
        "id": "rB7-DjOtwH7A",
        "colab_type": "code",
        "colab": {}
      },
      "source": [
        "from bs4 import BeautifulSoup"
      ],
      "execution_count": 0,
      "outputs": []
    },
    {
      "cell_type": "code",
      "metadata": {
        "id": "XH3j48S7wgJD",
        "colab_type": "code",
        "colab": {}
      },
      "source": [
        "def getHTMLContent(url): \n",
        "  options = webdriver.ChromeOptions()\n",
        "  options.add_argument('--no-sandbox')\n",
        "  options.add_argument('--headless')\n",
        "  options.add_argument('--disable-dev-shm-usage')\n",
        "  options.add_argument('--remote-debugging-port=9222')\n",
        "  driver = webdriver.Chrome('chromedriver', options=options)\n",
        "  driver.get(url)\n",
        "  timeout = 120\n",
        "  page = ''\n",
        "  try:\n",
        "      WebDriverWait(driver, timeout).until(EC.visibility_of_element_located((By.CLASS_NAME, \"aqi-card-info-number\")))\n",
        "      page = driver.page_source\n",
        "      html = BeautifulSoup(page, 'html.parser')\n",
        "  except TimeoutException:\n",
        "      driver.quit()\n",
        "      html = None\n",
        "  return html"
      ],
      "execution_count": 0,
      "outputs": []
    },
    {
      "cell_type": "code",
      "metadata": {
        "id": "Yh--PrCn00MJ",
        "colab_type": "code",
        "colab": {}
      },
      "source": [
        "def extractInfo(html):\n",
        "  if html.find('div', class_='page-title') is None:\n",
        "    return None\n",
        "  name = html.find('div', class_='page-title').h1.b.text\n",
        "  status = html.find('div', class_='aqi-card-info-status').find('span', class_='status-text').text \n",
        "  aqi = html.find('div', class_='aqi-card-info-number').find('span', class_='aqi').text\n",
        "  aqi = aqi[0:2]\n",
        "  return name, status, aqi"
      ],
      "execution_count": 0,
      "outputs": []
    },
    {
      "cell_type": "code",
      "metadata": {
        "id": "oHWKwe4xwwB0",
        "colab_type": "code",
        "outputId": "23573c5d-fd57-4862-9d47-1c7f890f98c1",
        "colab": {
          "base_uri": "https://localhost:8080/",
          "height": 51
        }
      },
      "source": [
        "urls = {\n",
        "  'Home': 'https://www.airvisual.com/thailand/bangkok/yan-nawa',\n",
        "  'Office': 'https://www.airvisual.com/thailand/bangkok/din-daeng-rd-din-daeng'\n",
        "}\n",
        "for key, url in urls.items():\n",
        "  html = getHTMLContent(url)\n",
        "  name, status, aqi = extractInfo(html)\n",
        "  print(\"Location: {} ({}) | {} US AQI ({}) \".format(key, name, aqi, status))"
      ],
      "execution_count": 9,
      "outputs": [
        {
          "output_type": "stream",
          "text": [
            "Location: Home (Yan Nawa) | 57 US AQI (Moderate) \n",
            "Location: Office (Din Daeng Rd., Din Daeng) | 78 US AQI (Moderate) \n"
          ],
          "name": "stdout"
        }
      ]
    },
    {
      "cell_type": "code",
      "metadata": {
        "id": "6WHy2IXqBO-G",
        "colab_type": "code",
        "colab": {}
      },
      "source": [
        ""
      ],
      "execution_count": 0,
      "outputs": []
    }
  ]
}